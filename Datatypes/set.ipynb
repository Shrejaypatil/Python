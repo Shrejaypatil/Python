{
 "cells": [
  {
   "cell_type": "code",
   "execution_count": 1,
   "metadata": {},
   "outputs": [
    {
     "data": {
      "text/plain": [
       "'\\nSets :\\n\\n\\nAnother datatype in python which stores unique values only. Can store different datatypes too similar to lists.\\n\\n1. set is enclosed in curly braces {}\\n2. set stores uniques data only.\\n3. it provides many functionality that we know an usual mathemical set provides like union, intersection and joins etc\\n\\n\\nUse Case :\\n\\nAs mentioned above it provides mathematical operations on set, hence whenever we require to solve problems based on sets we an use them\\n\\nfor example : when we have various combination of students in a class enrolling in different subjects, so here we can find the students who took same subjects, different subjects \\ntotal no of students in a particular subject and many more.\\n\\n'"
      ]
     },
     "execution_count": 1,
     "metadata": {},
     "output_type": "execute_result"
    }
   ],
   "source": [
    "'''\n",
    "Sets :\n",
    "\n",
    "\n",
    "Another datatype in python which stores unique values only. Can store different datatypes too similar to lists.\n",
    "\n",
    "1. set is enclosed in curly braces {}\n",
    "2. set stores uniques data only.\n",
    "3. it provides many functionality that we know an usual mathemical set provides like union, intersection and joins etc\n",
    "\n",
    "\n",
    "Use Case :\n",
    "\n",
    "As mentioned above it provides mathematical operations on set, hence whenever we require to solve problems based on sets we an use them\n",
    "\n",
    "for example : when we have various combination of students in a class enrolling in different subjects, so here we can find the students who took same subjects, different subjects \n",
    "total no of students in a particular subject and many more.\n",
    "\n",
    "'''"
   ]
  },
  {
   "cell_type": "code",
   "execution_count": 8,
   "metadata": {},
   "outputs": [
    {
     "name": "stdout",
     "output_type": "stream",
     "text": [
      "{} <class 'dict'>\n",
      "set() <class 'set'>\n",
      "{1, 2, 3, 4} <class 'set'>\n",
      "{'shre', 1, 2, 50.2, 'A'} <class 'set'>\n",
      "{1, 2, 3, 4} <class 'set'>\n"
     ]
    }
   ],
   "source": [
    "# set creation\n",
    "\n",
    "s = {}\n",
    "\n",
    "print(s, type(s)) # will give type dictionary cause both have same enclosement, solution is to use set function\n",
    "\n",
    "s = set()\n",
    "\n",
    "print(s, type(s))\n",
    "\n",
    "s = {1,2,3,4}\n",
    "\n",
    "print(s, type(s))\n",
    "\n",
    "# Can also store diffrent types of data similar to lists\n",
    "\n",
    "s = {1,2,\"shre\", 'A' , True, 50.20}\n",
    "\n",
    "print(s, type(s))\n",
    "\n",
    "# what if we store duplicate data ? \n",
    "\n",
    "s = {1,1,2,2,3,3,4}\n",
    "\n",
    "print(s, type(s))\n",
    "\n",
    "# It will anyway store unique ones only\n",
    "\n"
   ]
  },
  {
   "cell_type": "code",
   "execution_count": 13,
   "metadata": {},
   "outputs": [
    {
     "name": "stdout",
     "output_type": "stream",
     "text": [
      "{1, 2, 3, 4, 5, 10}\n"
     ]
    }
   ],
   "source": [
    "# insertion in set\n",
    "\n",
    "s = {1,2,3,4,5}\n",
    "\n",
    "# add function : adds the mentioned item in the set\n",
    "\n",
    "s.add(10)\n",
    "\n",
    "print(s)\n",
    "\n",
    "# s[0] = 100 # sets are unordered collection hence cant access with index values throw TypeError"
   ]
  },
  {
   "cell_type": "code",
   "execution_count": 14,
   "metadata": {},
   "outputs": [
    {
     "name": "stdout",
     "output_type": "stream",
     "text": [
      "set()\n"
     ]
    }
   ],
   "source": [
    "# clear set using clear function\n",
    "\n",
    "s = {1,2,3,4,5}\n",
    "\n",
    "s.clear()\n",
    "\n",
    "print(s)"
   ]
  },
  {
   "cell_type": "code",
   "execution_count": 16,
   "metadata": {},
   "outputs": [
    {
     "name": "stdout",
     "output_type": "stream",
     "text": [
      "{1, 2, 3, 4, 5} {1, 2, 3, 4, 5}\n"
     ]
    }
   ],
   "source": [
    "# copy set into another set\n",
    "\n",
    "s = {1,2,3,4,5}\n",
    "\n",
    "s2 = s.copy()\n",
    "\n",
    "print(s,s2)"
   ]
  },
  {
   "cell_type": "code",
   "execution_count": 18,
   "metadata": {},
   "outputs": [
    {
     "name": "stdout",
     "output_type": "stream",
     "text": [
      "{1, 2, 3, 45, 54, 60}\n"
     ]
    }
   ],
   "source": [
    "# union in set : combines unique data items present in both sets\n",
    "\n",
    "s = {1,2,3,45}\n",
    "\n",
    "s2 = {1,2,54,60}\n",
    "\n",
    "s3 = s.union(s2)\n",
    "\n",
    "print(s3)"
   ]
  },
  {
   "cell_type": "code",
   "execution_count": 19,
   "metadata": {},
   "outputs": [
    {
     "name": "stdout",
     "output_type": "stream",
     "text": [
      "{1, 2}\n"
     ]
    }
   ],
   "source": [
    "# intersection in set : returns only common elements present in both sets\n",
    "\n",
    "s = {1,2,3,45}\n",
    "\n",
    "s2 = {1,2,54,60}\n",
    "\n",
    "s3 = s.intersection(s2)\n",
    "\n",
    "print(s3)"
   ]
  },
  {
   "cell_type": "code",
   "execution_count": 20,
   "metadata": {},
   "outputs": [
    {
     "name": "stdout",
     "output_type": "stream",
     "text": [
      "{3, 45}\n"
     ]
    }
   ],
   "source": [
    "# difference in set :  returns values present in set and elements that are not present in another set\n",
    "\n",
    "s = {1,2,3,45}\n",
    "\n",
    "s2 = {1,2,54,60}\n",
    "\n",
    "s3 = s.difference(s2)\n",
    "\n",
    "print(s3)"
   ]
  },
  {
   "cell_type": "code",
   "execution_count": 21,
   "metadata": {},
   "outputs": [
    {
     "name": "stdout",
     "output_type": "stream",
     "text": [
      "{3, 54, 60, 45}\n"
     ]
    }
   ],
   "source": [
    "# symmetric difference : returns data items in both sets but does not include common ones\n",
    "\n",
    "s = {1,2,3,45}\n",
    "\n",
    "s2 = {1,2,54,60}\n",
    "\n",
    "s3 = s.symmetric_difference(s2)\n",
    "\n",
    "print(s3)"
   ]
  },
  {
   "cell_type": "code",
   "execution_count": 23,
   "metadata": {},
   "outputs": [
    {
     "name": "stdout",
     "output_type": "stream",
     "text": [
      "True\n"
     ]
    }
   ],
   "source": [
    "# isSubset : return true if one set has elements of another set\n",
    "\n",
    "s = {1,2}\n",
    "\n",
    "s2 = {1,2,54,60}\n",
    "\n",
    "print(s.issubset(s2))"
   ]
  },
  {
   "cell_type": "code",
   "execution_count": 25,
   "metadata": {},
   "outputs": [
    {
     "name": "stdout",
     "output_type": "stream",
     "text": [
      "True\n"
     ]
    }
   ],
   "source": [
    "# issuperset : returns if all the values are present in another set\n",
    "\n",
    "s = {1,2,54,60,55}\n",
    "\n",
    "s2 = {1,2,54,60}\n",
    "\n",
    "print(s.issuperset(s2))"
   ]
  },
  {
   "cell_type": "code",
   "execution_count": 27,
   "metadata": {},
   "outputs": [
    {
     "name": "stdout",
     "output_type": "stream",
     "text": [
      "True\n"
     ]
    }
   ],
   "source": [
    "# isdisjoint : Checks if two sets have no elements in common.\n",
    "\n",
    "s = {3,4,5,6}\n",
    "\n",
    "s2 = {1,2,54,60}\n",
    "\n",
    "print(s.isdisjoint(s2))"
   ]
  },
  {
   "cell_type": "code",
   "execution_count": 33,
   "metadata": {},
   "outputs": [
    {
     "name": "stdout",
     "output_type": "stream",
     "text": [
      "{2, 54, 55, 60}\n",
      "{1, 2, 55, 60}\n",
      "{1, 2, 54, 60}\n",
      "{1, 2, 54, 60}\n"
     ]
    }
   ],
   "source": [
    "# removing items in set \n",
    "\n",
    "# pop function :  removes last element \n",
    "\n",
    "s = {1,2,54,60,55}\n",
    "\n",
    "s.pop()\n",
    "\n",
    "print(s)\n",
    "\n",
    "\n",
    "# remove m=function : removes mentioned element if present else throws ValueError\n",
    "\n",
    "s = {1,2,54,60,55}\n",
    "\n",
    "s.remove(54)\n",
    "\n",
    "print(s)\n",
    "\n",
    "# s.remove(10) # throws Value Error as item not present\n",
    "\n",
    "# discard fucntion : removes data item if present else DO NOT THROW ERROR\n",
    "\n",
    "s = {1,2,54,60,55}\n",
    "\n",
    "s.discard(55)\n",
    "\n",
    "print(s)\n",
    "\n",
    "s.discard(200)\n",
    "\n",
    "print(s)\n"
   ]
  },
  {
   "cell_type": "code",
   "execution_count": null,
   "metadata": {},
   "outputs": [],
   "source": []
  }
 ],
 "metadata": {
  "kernelspec": {
   "display_name": "Python 3",
   "language": "python",
   "name": "python3"
  },
  "language_info": {
   "codemirror_mode": {
    "name": "ipython",
    "version": 3
   },
   "file_extension": ".py",
   "mimetype": "text/x-python",
   "name": "python",
   "nbconvert_exporter": "python",
   "pygments_lexer": "ipython3",
   "version": "3.10.9"
  }
 },
 "nbformat": 4,
 "nbformat_minor": 2
}
