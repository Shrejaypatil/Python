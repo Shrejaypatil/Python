{
 "cells": [
  {
   "cell_type": "code",
   "execution_count": 1,
   "metadata": {},
   "outputs": [
    {
     "data": {
      "text/plain": [
       "'\\nDictionary : \\n\\n\\ndictionary are well know and one of the most popular datatype in python which helps ue store data in key,value form\\n\\n1. dict are enclosed in curly braces {}\\n2. dict have key, value pair where keys are uniques and acts like indexes\\n3. dict are mutable, hence can be changed after craetion\\n\\n\\nUse case :\\n\\nWe sometimes might require our data to be in a key : val form.\\n\\nfor example : phone diectory , where we need to store phone number of people against there name \\n\\n'"
      ]
     },
     "execution_count": 1,
     "metadata": {},
     "output_type": "execute_result"
    }
   ],
   "source": [
    "'''\n",
    "Dictionary : \n",
    "\n",
    "\n",
    "dictionary are well know and one of the most popular datatype in python which helps ue store data in key,value form\n",
    "\n",
    "1. dict are enclosed in curly braces {}\n",
    "2. dict have key, value pair where keys are uniques and acts like indexes\n",
    "3. dict are mutable, hence can be changed after craetion\n",
    "\n",
    "\n",
    "Use case :\n",
    "\n",
    "We sometimes might require our data to be in a key : val form.\n",
    "\n",
    "for example : phone diectory , where we need to store phone number of people against there name \n",
    "\n",
    "'''"
   ]
  },
  {
   "cell_type": "code",
   "execution_count": 1,
   "metadata": {},
   "outputs": [
    {
     "name": "stdout",
     "output_type": "stream",
     "text": [
      "{} <class 'dict'>\n",
      "{} <class 'dict'>\n"
     ]
    }
   ],
   "source": [
    "# dict creation\n",
    "\n",
    "d1 = {}\n",
    "\n",
    "print(d1 , type(d1))\n",
    "\n",
    "d2 = dict()\n",
    "\n",
    "print(d2 , type(d2))"
   ]
  },
  {
   "cell_type": "code",
   "execution_count": 4,
   "metadata": {},
   "outputs": [
    {
     "name": "stdout",
     "output_type": "stream",
     "text": [
      "{1: 'a', 2: 'b', 3: 'c'}\n",
      "{'name': 'John', 'age': 30, 'city': 'New York'}\n",
      "{'name': 'John', 'age': 30, 'city': 'London'}\n",
      "{'name': 'John', 'age': 30, 'city': 'Paris'}\n"
     ]
    }
   ],
   "source": [
    "# we can create dict with giving key : val pair\n",
    "\n",
    "d = {1 : \"a\", 2 : \"b\" , 3 : \"c\"}\n",
    "\n",
    "print(d)\n",
    "\n",
    "# we can create dict using direct diving key val in dict function\n",
    "\n",
    "d2 = dict(name=\"John\", age=30, city=\"New York\")\n",
    "\n",
    "print(d2)\n",
    "\n",
    "# we can crete dict using nested list\n",
    "\n",
    "l = [[\"name\",\"John\"] , [\"age\",30],[\"city\",\"London\"]]\n",
    "\n",
    "d3 = dict(l)\n",
    "\n",
    "print(d3)\n",
    "\n",
    "# we can create dict using tuples too\n",
    "\n",
    "t = ((\"name\",\"John\") , (\"age\",30),(\"city\",\"Paris\"))\n",
    "\n",
    "d4 = dict(t)\n",
    "\n",
    "print(d4)\n"
   ]
  },
  {
   "cell_type": "code",
   "execution_count": 10,
   "metadata": {},
   "outputs": [
    {
     "name": "stdout",
     "output_type": "stream",
     "text": [
      "John\n",
      "John\n",
      "None\n"
     ]
    }
   ],
   "source": [
    "# accesing data items from dict\n",
    "\n",
    "d = {'name': 'John', 'age': 30, 'city': 'Paris'}\n",
    "\n",
    "# we can access data using keys\n",
    "\n",
    "print(d[\"name\"])\n",
    "\n",
    "# get function : retries value againts mentioned key if available else default\n",
    "\n",
    "print(d.get(\"name\"))\n",
    "\n",
    "print(d.get(\"game\")) # return default : none"
   ]
  },
  {
   "cell_type": "code",
   "execution_count": 16,
   "metadata": {},
   "outputs": [
    {
     "name": "stdout",
     "output_type": "stream",
     "text": [
      "dict_keys(['name', 'age', 'city'])\n",
      "dict_values(['John', 30, 'Paris'])\n",
      "dict_items([('name', 'John'), ('age', 30), ('city', 'Paris')])\n",
      "dict_items([('name', 'John'), ('age', 30), ('city', 'Paris')])\n"
     ]
    }
   ],
   "source": [
    "# access with keys\n",
    "\n",
    "d = {'name': 'John', 'age': 30, 'city': 'Paris'}\n",
    "\n",
    "print(d.keys())\n",
    "\n",
    "# access with values\n",
    "\n",
    "print(d.values())\n",
    "\n",
    "# access with both key and value as a tuple\n",
    "\n",
    "print(d.items())\n",
    "\n",
    "d.setdefault(\"name\",23) # we can also set default values \n",
    "\n",
    "print(d.items())\n",
    "\n"
   ]
  },
  {
   "cell_type": "code",
   "execution_count": 24,
   "metadata": {},
   "outputs": [
    {
     "name": "stdout",
     "output_type": "stream",
     "text": [
      "{'name': 'John', 'city': 'Paris'}\n",
      "{'name': 'John', 'age': 30}\n"
     ]
    }
   ],
   "source": [
    "# remove items from dict\n",
    "\n",
    "# pop function :  removes the key items mentioned\n",
    "\n",
    "d = {'name': 'John', 'age': 30, 'city': 'Paris'}\n",
    "\n",
    "d.pop(\"age\")\n",
    "\n",
    "print(d)\n",
    "\n",
    "# pop item : removes last key value pair\n",
    "\n",
    "d = {'name': 'John', 'age': 30, 'city': 'Paris'}\n",
    "\n",
    "d.popitem()\n",
    "\n",
    "print(d)\n",
    "\n"
   ]
  },
  {
   "cell_type": "code",
   "execution_count": 32,
   "metadata": {},
   "outputs": [
    {
     "name": "stdout",
     "output_type": "stream",
     "text": [
      "{'name': 'John', 'age': 30}\n",
      "{'name': 'John', 'age': 31, 'city': 'New York'}\n"
     ]
    }
   ],
   "source": [
    "\n",
    "'''\n",
    "\n",
    "update function : \n",
    "Updates the dictionary with the key-value pairs from another dictionary or iterable of key-value pairs. If the key already exists, the value is updated.\n",
    "\n",
    "'''\n",
    "\n",
    "my_dict = {\"name\": \"John\", \"age\": 30}\n",
    "print(my_dict)\n",
    "my_dict.update({\"age\": 31, \"city\": \"New York\"})\n",
    "\n",
    "print(my_dict) \n"
   ]
  },
  {
   "cell_type": "code",
   "execution_count": 33,
   "metadata": {},
   "outputs": [
    {
     "name": "stdout",
     "output_type": "stream",
     "text": [
      "{}\n"
     ]
    }
   ],
   "source": [
    "# clear function\n",
    "\n",
    "d = {'name': 'John', 'age': 30, 'city': 'Paris'}\n",
    "\n",
    "d.clear()\n",
    "\n",
    "print(d)"
   ]
  },
  {
   "cell_type": "code",
   "execution_count": 34,
   "metadata": {},
   "outputs": [
    {
     "name": "stdout",
     "output_type": "stream",
     "text": [
      "{'name': 'John', 'age': 30, 'city': 'Paris'}\n"
     ]
    }
   ],
   "source": [
    "# copy function \n",
    "\n",
    "d = {'name': 'John', 'age': 30, 'city': 'Paris'}\n",
    "\n",
    "m = d.copy()\n",
    "\n",
    "print(m)"
   ]
  },
  {
   "cell_type": "code",
   "execution_count": 35,
   "metadata": {},
   "outputs": [
    {
     "name": "stdout",
     "output_type": "stream",
     "text": [
      "{'age': 'unknown', 'name': 'unknown', 'bloodgrp': 'unknown'}\n"
     ]
    }
   ],
   "source": [
    "# from keys function : creates a new dict with fiven keys and default value\n",
    "\n",
    "keys  = [\"age\",\"name\",\"bloodgrp\"]\n",
    "\n",
    "d = dict.fromkeys(keys, \"unknown\")\n",
    "\n",
    "print(d)"
   ]
  }
 ],
 "metadata": {
  "kernelspec": {
   "display_name": "Python 3",
   "language": "python",
   "name": "python3"
  },
  "language_info": {
   "codemirror_mode": {
    "name": "ipython",
    "version": 3
   },
   "file_extension": ".py",
   "mimetype": "text/x-python",
   "name": "python",
   "nbconvert_exporter": "python",
   "pygments_lexer": "ipython3",
   "version": "3.10.9"
  }
 },
 "nbformat": 4,
 "nbformat_minor": 2
}
