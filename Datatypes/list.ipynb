{
 "cells": [
  {
   "cell_type": "code",
   "execution_count": 1,
   "metadata": {},
   "outputs": [
    {
     "data": {
      "text/plain": [
       "'\\nList is a non primitive datatype in python it is similar to arrays but here we can store data of different types no restrictions on that.\\n\\n1. list items are enclosed in square brackets.\\n2. list provides many inbuilt function for its manipulation of items.\\n3. lists are mutable that is they can be changed/updated at runtime.\\n\\nUse Case : \\n\\nBy providing flexibility and ease of manipulation list is used quite oftenly. \\nWhenever we want to store a data of similar type like student marks, customer info etc and would also require to update/delete/modify it in future.\\n\\n'"
      ]
     },
     "execution_count": 1,
     "metadata": {},
     "output_type": "execute_result"
    }
   ],
   "source": [
    "\n",
    "'''\n",
    "List is a non primitive datatype in python it is similar to arrays but here we can store data of different types no restrictions on that.\n",
    "\n",
    "1. list items are enclosed in square brackets.\n",
    "2. list provides many inbuilt function for its manipulation of items.\n",
    "3. lists are mutable that is they can be changed/updated at runtime.\n",
    "\n",
    "Use Case : \n",
    "\n",
    "By providing flexibility and ease of manipulation list is used quite oftenly. \n",
    "Whenever we want to store a data of similar type like student marks, customer info etc and would also require to update/delete/modify it in future.\n",
    "\n",
    "'''\n"
   ]
  },
  {
   "cell_type": "code",
   "execution_count": 4,
   "metadata": {},
   "outputs": [
    {
     "name": "stdout",
     "output_type": "stream",
     "text": [
      "[] <class 'list'>\n",
      "[] <class 'list'>\n",
      "[1, 2, 3, 4, 5] <class 'list'>\n",
      "[1, 'A', 'Shre', False, 20.5] <class 'list'>\n"
     ]
    }
   ],
   "source": [
    "# List creation\n",
    "\n",
    "list1 = []\n",
    "\n",
    "print(list1, type(list1))\n",
    "\n",
    "list2 = list() # list function to create a list\n",
    "\n",
    "print(list2, type(list2))\n",
    "\n",
    "list3 = [1,2,3,4,5]\n",
    "\n",
    "print(list3, type(list3))\n",
    "\n",
    "# we can also have different datatypes of items in list\n",
    "\n",
    "list4 = [1,'A', \"Shre\", False, 20.5]\n",
    "\n",
    "print(list4, type(list4))\n",
    "\n"
   ]
  },
  {
   "cell_type": "code",
   "execution_count": 11,
   "metadata": {},
   "outputs": [
    {
     "name": "stdout",
     "output_type": "stream",
     "text": [
      "[1, 2, 3, 4, 5, 12] <class 'list'>\n",
      "[1, 2, 10, 3, 4, 5, 12] <class 'list'>\n"
     ]
    }
   ],
   "source": [
    "# List Insertion\n",
    "\n",
    "list1 = [1,2,3,4,5]\n",
    "\n",
    "# append function to add item at the end\n",
    "\n",
    "list1.append(12)\n",
    "\n",
    "print(list1, type(list1))\n",
    "\n",
    "# insert function to insert at a index, and shifts rest of items to right\n",
    "\n",
    "list1.insert(2,10)\n",
    "\n",
    "print(list1, type(list1))\n",
    "\n"
   ]
  },
  {
   "cell_type": "code",
   "execution_count": 17,
   "metadata": {},
   "outputs": [
    {
     "name": "stdout",
     "output_type": "stream",
     "text": [
      "3\n",
      "4\n"
     ]
    }
   ],
   "source": [
    "# List item access\n",
    "\n",
    "list1 = [1,2,3,4,5]\n",
    "\n",
    "# access directly with index\n",
    "\n",
    "print(list1[2])\n",
    "\n",
    "# access with index function , which returns an index value if value is present else error\n",
    "\n",
    "print(list1.index(5))\n",
    "\n",
    "# print(list1.index(10))  // will throw ValueError\n"
   ]
  },
  {
   "cell_type": "code",
   "execution_count": 19,
   "metadata": {},
   "outputs": [
    {
     "name": "stdout",
     "output_type": "stream",
     "text": [
      "[100, 2, 3, 4, 5]\n"
     ]
    }
   ],
   "source": [
    "# Updating list items\n",
    "\n",
    "# directly with index\n",
    "\n",
    "list1 = [1,2,3,4,5]\n",
    "\n",
    "list1[0] = 100\n",
    "\n",
    "print(list1)\n"
   ]
  },
  {
   "cell_type": "code",
   "execution_count": 23,
   "metadata": {},
   "outputs": [
    {
     "name": "stdout",
     "output_type": "stream",
     "text": [
      "[1, 2, 3, 4]\n",
      "[1, 3, 4]\n"
     ]
    }
   ],
   "source": [
    "# removing list items\n",
    "\n",
    "list1 = [1,2,3,4,5]\n",
    "\n",
    "# remove from last\n",
    "\n",
    "list1.pop()\n",
    "\n",
    "print(list1)\n",
    "\n",
    "# remove function deletes the mentioned item if available else throws error\n",
    "\n",
    "list1.remove(2)\n",
    "\n",
    "print(list1)\n",
    " \n",
    "# list1.remove(30)  throw VlaueError\n"
   ]
  },
  {
   "cell_type": "code",
   "execution_count": 24,
   "metadata": {},
   "outputs": [
    {
     "name": "stdout",
     "output_type": "stream",
     "text": [
      "[]\n"
     ]
    }
   ],
   "source": [
    "# clear a list and make it empty with clear function\n",
    "\n",
    "list1 = [1,2,3,4,5]\n",
    "\n",
    "list1.clear()\n",
    "\n",
    "print(list1)"
   ]
  },
  {
   "cell_type": "code",
   "execution_count": 34,
   "metadata": {},
   "outputs": [
    {
     "name": "stdout",
     "output_type": "stream",
     "text": [
      "[1, 2, 3, 4, 5, 5, 4, 3, 2, 1]\n"
     ]
    }
   ],
   "source": [
    "# Some more extra functions with list \n",
    "\n",
    "\n",
    "# extend function : it joins two lists maintaining relative order of elements\n",
    "\n",
    "list1 = [1,2,3,4,5]\n",
    "list2 = [5,4,3,2,1]\n",
    "\n",
    "list1.extend(list2)\n",
    "\n",
    "print(list1)\n",
    "\n"
   ]
  },
  {
   "cell_type": "code",
   "execution_count": 39,
   "metadata": {},
   "outputs": [
    {
     "name": "stdout",
     "output_type": "stream",
     "text": [
      "2\n"
     ]
    }
   ],
   "source": [
    "# count function : counts the number of occurence of mentioned list item\n",
    "\n",
    "list1 = [1,2,3,4,5,5,4,3,2,1]\n",
    "\n",
    "print(list1.count(2))\n"
   ]
  },
  {
   "cell_type": "code",
   "execution_count": 40,
   "metadata": {},
   "outputs": [
    {
     "name": "stdout",
     "output_type": "stream",
     "text": [
      "[5, 4, 3, 2, 1]\n"
     ]
    }
   ],
   "source": [
    "# reverse function : simply reverse the whole list\n",
    "\n",
    "list1 = [1,2,3,4,5]\n",
    "\n",
    "list1.reverse()\n",
    "\n",
    "print(list1)"
   ]
  },
  {
   "cell_type": "code",
   "execution_count": 47,
   "metadata": {},
   "outputs": [
    {
     "name": "stdout",
     "output_type": "stream",
     "text": [
      "[1, 2, 3, 4, 5]\n",
      "[1, 2, 3, 4, 100]\n",
      "[1, 2, 3, 4, 5]\n"
     ]
    }
   ],
   "source": [
    "# copy function : simply copies the whole list into another\n",
    "\n",
    "list1 = [1,2,3,4,5]\n",
    "\n",
    "list2 = list1.copy()\n",
    "\n",
    "print(list2)\n",
    "\n",
    "list2[4] = 100\n",
    "\n",
    "print(list2)\n",
    "print(list1)"
   ]
  },
  {
   "cell_type": "code",
   "execution_count": 55,
   "metadata": {},
   "outputs": [
    {
     "name": "stdout",
     "output_type": "stream",
     "text": [
      "[-100, -1, 1, 2, 50, 60, 400]\n",
      "[400, 60, 50, 2, 1, -1, -100]\n",
      "['apple', 'banana', 'kiwi', 'orange']\n",
      "['kiwi', 'apple', 'banana', 'orange']\n"
     ]
    }
   ],
   "source": [
    "# sort function : simply sorts the whole list in asc as well as desc order \n",
    "\n",
    "list1 = [1,-1,400,60,-100,2,50]\n",
    "\n",
    "list1.sort()\n",
    "\n",
    "print(list1)\n",
    "\n",
    "# sort in desc order\n",
    "\n",
    "list1.sort(reverse=True)\n",
    "\n",
    "print(list1)\n",
    "\n",
    "'''\n",
    "using the key parameter in sort function gives use flexibility to sort items according to some custom logic\n",
    "\n",
    "For example when we use sort function on a list containg string items by default it will get sorted according to its ascii values of first letter\n",
    "\n",
    "what if we wanted to sort it according to the length of each string item here comees the key parameter in play.\n",
    "\n",
    "'''\n",
    "\n",
    "list1 = [\"banana\", \"apple\", \"kiwi\", \"orange\"]\n",
    "\n",
    "list1.sort()\n",
    "\n",
    "print(list1)\n",
    "\n",
    "list1.sort(key = len)\n",
    "\n",
    "print(list1)"
   ]
  }
 ],
 "metadata": {
  "kernelspec": {
   "display_name": "Python 3",
   "language": "python",
   "name": "python3"
  },
  "language_info": {
   "codemirror_mode": {
    "name": "ipython",
    "version": 3
   },
   "file_extension": ".py",
   "mimetype": "text/x-python",
   "name": "python",
   "nbconvert_exporter": "python",
   "pygments_lexer": "ipython3",
   "version": "3.10.9"
  }
 },
 "nbformat": 4,
 "nbformat_minor": 2
}
