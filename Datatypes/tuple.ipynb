{
 "cells": [
  {
   "cell_type": "code",
   "execution_count": 2,
   "metadata": {},
   "outputs": [
    {
     "data": {
      "text/plain": [
       "'\\ntuples are another no primitive datatypes in python which are similar to list but are immutable (cannot be changed once created)\\n\\n1. tuples are enclosed in curly brackets ()\\n2. tuples are immutable (cannot be changed once created only can be accessec)\\n\\nWe can also quote tuple as \"READ ONLY DATATYPE\"\\n\\nUseCase :\\n\\nAs tuples are similar to list it has a similar use case but as they are immutable we cannot change it once we have added out data.\\n\\nFor example if we want to store answers from students , this will make sure that the answers are not changed once given.\\n\\nHence we can conclude that tuples are more secure than lists but are less flexible.\\n\\n'"
      ]
     },
     "execution_count": 2,
     "metadata": {},
     "output_type": "execute_result"
    }
   ],
   "source": [
    "'''\n",
    "tuples are another no primitive datatypes in python which are similar to list but are immutable (cannot be changed once created)\n",
    "\n",
    "1. tuples are enclosed in curly brackets ()\n",
    "2. tuples are immutable (cannot be changed once created only can be accessec)\n",
    "\n",
    "We can also quote tuple as \"READ ONLY DATATYPE\"\n",
    "\n",
    "UseCase :\n",
    "\n",
    "As tuples are similar to list it has a similar use case but as they are immutable we cannot change it once we have added out data.\n",
    "\n",
    "For example if we want to store answers from students , this will make sure that the answers are not changed once given.\n",
    "\n",
    "Hence we can conclude that tuples are more secure than lists but are less flexible.\n",
    "\n",
    "'''"
   ]
  },
  {
   "cell_type": "code",
   "execution_count": 7,
   "metadata": {},
   "outputs": [
    {
     "name": "stdout",
     "output_type": "stream",
     "text": [
      "() <class 'tuple'>\n",
      "() <class 'tuple'>\n",
      "(1, 2, 3, 4, 5) <class 'tuple'>\n",
      "(1, 'hello', 'C', 20.5, True)\n"
     ]
    }
   ],
   "source": [
    "# tuple creation\n",
    "\n",
    "tuple1 = ()\n",
    "\n",
    "print(tuple1, type(tuple1))\n",
    "\n",
    "# using tuple function\n",
    "\n",
    "tuple2 = tuple()\n",
    "\n",
    "print(tuple2, type(tuple2))\n",
    "\n",
    "tuple3 = (1,2,3,4,5)\n",
    "\n",
    "print(tuple3, type(tuple3))\n",
    "\n",
    "# we can also store different tuple items similar to lists\n",
    "\n",
    "tuple4 = (1,\"hello\", 'C', 20.5, True)\n",
    "\n",
    "print(tuple4)"
   ]
  },
  {
   "cell_type": "code",
   "execution_count": 8,
   "metadata": {},
   "outputs": [
    {
     "data": {
      "text/plain": [
       "'\\nAs discussed in earlier note tuples are immutable hence we cannot insert, delete or update tuple items\\n\\n'"
      ]
     },
     "execution_count": 8,
     "metadata": {},
     "output_type": "execute_result"
    }
   ],
   "source": [
    "'''\n",
    "As discussed in earlier note tuples are immutable hence we cannot insert, delete or update tuple items\n",
    "\n",
    "'''"
   ]
  },
  {
   "cell_type": "code",
   "execution_count": 10,
   "metadata": {},
   "outputs": [
    {
     "name": "stdout",
     "output_type": "stream",
     "text": [
      "3\n"
     ]
    }
   ],
   "source": [
    "# some tuple functions allowed\n",
    "\n",
    "# count function : count number of occurence of mentioned item\n",
    "\n",
    "tuple1 = (1,1,1,4,5,9,6)\n",
    "\n",
    "print(tuple1.count(1))"
   ]
  },
  {
   "cell_type": "code",
   "execution_count": 13,
   "metadata": {},
   "outputs": [
    {
     "name": "stdout",
     "output_type": "stream",
     "text": [
      "4\n"
     ]
    }
   ],
   "source": [
    "# index method : returns index value of mentioned data if available else ValuesError\n",
    "\n",
    "tuple1 = (1,1,1,4,5,9,6)\n",
    "\n",
    "print(tuple1.index(5))\n",
    "# print(tuple1.index(10))  thows VlaueError"
   ]
  },
  {
   "cell_type": "code",
   "execution_count": 14,
   "metadata": {},
   "outputs": [
    {
     "name": "stdout",
     "output_type": "stream",
     "text": [
      "6\n"
     ]
    }
   ],
   "source": [
    "# accessing tuple items\n",
    "\n",
    "tuple1 = (1,2,3,4,5,6,7,8,9,10)\n",
    "\n",
    "print(tuple1[5])"
   ]
  },
  {
   "cell_type": "code",
   "execution_count": 17,
   "metadata": {},
   "outputs": [
    {
     "name": "stdout",
     "output_type": "stream",
     "text": [
      "1\n",
      "2\n",
      "3\n",
      "A\n",
      "shrejay\n",
      "1\n",
      "2\n",
      "3\n",
      "A\n",
      "shrejay\n"
     ]
    }
   ],
   "source": [
    "# Interesting use case of tuple is args, passsing arguments as tuples\n",
    "\n",
    "'''\n",
    "When we dont know how many data items will be required to pass to an function we use args and kwargs(will be discussed in dictionary module) \n",
    "these are not fixed keywords in python we can use anything apart from thses words but is considered to be a good practise\n",
    "\n",
    "'''\n",
    "\n",
    "def display(*args):\n",
    "    \n",
    "    for i  in args:\n",
    "        print(i)\n",
    "        \n",
    "\n",
    "display(1,2,3,'A',\"shrejay\")\n",
    "\n",
    "\n",
    "# not fixed keywords\n",
    "\n",
    "def display2(*parameters):\n",
    "    \n",
    "    for i  in parameters:\n",
    "        print(i)\n",
    "        \n",
    "\n",
    "display2(1,2,3,'A',\"shrejay\")"
   ]
  },
  {
   "cell_type": "code",
   "execution_count": null,
   "metadata": {},
   "outputs": [],
   "source": []
  }
 ],
 "metadata": {
  "kernelspec": {
   "display_name": "Python 3",
   "language": "python",
   "name": "python3"
  },
  "language_info": {
   "codemirror_mode": {
    "name": "ipython",
    "version": 3
   },
   "file_extension": ".py",
   "mimetype": "text/x-python",
   "name": "python",
   "nbconvert_exporter": "python",
   "pygments_lexer": "ipython3",
   "version": "3.10.9"
  }
 },
 "nbformat": 4,
 "nbformat_minor": 2
}
