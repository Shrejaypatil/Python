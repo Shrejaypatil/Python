{
 "cells": [
  {
   "cell_type": "code",
   "execution_count": 1,
   "metadata": {},
   "outputs": [
    {
     "data": {
      "text/plain": [
       "20"
      ]
     },
     "execution_count": 1,
     "metadata": {},
     "output_type": "execute_result"
    }
   ],
   "source": [
    "'''\n",
    "Encapsulation : wrapping up of data into single entitiy this also leads to abstraction (Implementation Hiding)\n",
    "\n",
    "can be achieved by created class\n",
    "\n",
    "'''\n",
    "\n",
    "class A:\n",
    "\n",
    "    var1 = 10\n",
    "    var2 = 20\n",
    "\n",
    "\n",
    "obj = A()\n",
    "\n",
    "obj.var1\n",
    "obj.var2"
   ]
  },
  {
   "cell_type": "code",
   "execution_count": null,
   "metadata": {},
   "outputs": [],
   "source": []
  }
 ],
 "metadata": {
  "kernelspec": {
   "display_name": "Python 3",
   "language": "python",
   "name": "python3"
  },
  "language_info": {
   "codemirror_mode": {
    "name": "ipython",
    "version": 3
   },
   "file_extension": ".py",
   "mimetype": "text/x-python",
   "name": "python",
   "nbconvert_exporter": "python",
   "pygments_lexer": "ipython3",
   "version": "3.12.6"
  }
 },
 "nbformat": 4,
 "nbformat_minor": 2
}
