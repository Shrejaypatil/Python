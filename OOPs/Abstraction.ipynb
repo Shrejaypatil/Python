{
 "cells": [
  {
   "cell_type": "code",
   "execution_count": 10,
   "metadata": {},
   "outputs": [
    {
     "name": "stdout",
     "output_type": "stream",
     "text": [
      "harry\n",
      "chess\n"
     ]
    }
   ],
   "source": [
    "'''\n",
    "Abstaction : Data Hiding\n",
    "\n",
    "\n",
    "with use of private, protected and public access specifier\n",
    "\n",
    "'''\n",
    "\n",
    "\n",
    "class A:\n",
    "\n",
    "    def __init__(self , game,name):\n",
    "        self.name = name\n",
    "        self.__game = game # now private cant be accessed out pof class\n",
    "\n",
    "\n",
    "    def getGame(self):\n",
    "\n",
    "        return self.__game\n",
    "    \n",
    "\n",
    "\n",
    "obj = A(\"chess\",\"harry\")\n",
    "\n",
    "print(obj.name)\n",
    "print(obj.getGame())\n",
    "\n",
    "# if tried with underscore\n",
    "\n",
    "#  obj.__game get an error\n",
    "\n"
   ]
  },
  {
   "cell_type": "code",
   "execution_count": 21,
   "metadata": {},
   "outputs": [
    {
     "name": "stdout",
     "output_type": "stream",
     "text": [
      "x :  10\n"
     ]
    },
    {
     "data": {
      "text/plain": [
       "20"
      ]
     },
     "execution_count": 21,
     "metadata": {},
     "output_type": "execute_result"
    }
   ],
   "source": [
    "'''\n",
    "Protected : Using single underscore and can only be accesed by child classes\n",
    "\n",
    "Private : using double underscore can only be accessed int its own class\n",
    "'''\n",
    "\n",
    "\n",
    "class Parent:\n",
    "\n",
    "\n",
    "    def __init__(self, x, y):\n",
    "\n",
    "        self._x = x\n",
    "        self.__y = y\n",
    "\n",
    "\n",
    "class Child(Parent):\n",
    "\n",
    "\n",
    "    def display(self):\n",
    "\n",
    "\n",
    "        print(\"x : \", self._x)\n",
    "\n",
    "\n",
    "obj = Child(10,20)\n",
    "\n",
    "obj.display()\n",
    "obj._x\n",
    "\n",
    "\n",
    "obj = Parent(10,20)\n",
    "\n",
    "obj._Parent__y ## can only be accesed using naming conventions like this"
   ]
  },
  {
   "cell_type": "code",
   "execution_count": null,
   "metadata": {},
   "outputs": [],
   "source": []
  }
 ],
 "metadata": {
  "kernelspec": {
   "display_name": "Python 3",
   "language": "python",
   "name": "python3"
  },
  "language_info": {
   "codemirror_mode": {
    "name": "ipython",
    "version": 3
   },
   "file_extension": ".py",
   "mimetype": "text/x-python",
   "name": "python",
   "nbconvert_exporter": "python",
   "pygments_lexer": "ipython3",
   "version": "3.12.6"
  }
 },
 "nbformat": 4,
 "nbformat_minor": 2
}
