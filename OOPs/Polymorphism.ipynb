{
 "cells": [
  {
   "cell_type": "code",
   "execution_count": 1,
   "metadata": {},
   "outputs": [
    {
     "name": "stdout",
     "output_type": "stream",
     "text": [
      "Woof!\n",
      "Meow!\n"
     ]
    }
   ],
   "source": [
    "'''\n",
    "Polymorphism : using same name but with diff functionality : function overriding in python\n",
    "\n",
    "'''\n",
    "\n",
    "'''\n",
    "1. Duck Typing in Python\n",
    "Python supports dynamic typing, often referred to as duck typing. This means that the type of an object is determined at runtime,\n",
    "and if an object behaves like a certain type (i.e., has the expected methods or properties), it can be used as that type, \n",
    "even if it doesn't explicitly inherit from a particular class.\n",
    "\n",
    "'''\n",
    "\n",
    "class Dog:\n",
    "    def sound(self):\n",
    "        return \"Woof!\"\n",
    "\n",
    "class Cat:\n",
    "    def sound(self):\n",
    "        return \"Meow!\"\n",
    "\n",
    "# A function that demonstrates polymorphism using duck typing\n",
    "def animal_sound(animal):\n",
    "    print(animal.sound())\n",
    "\n",
    "# Creating instances of Dog and Cat\n",
    "dog = Dog()\n",
    "cat = Cat()\n",
    "\n",
    "# Both Dog and Cat objects can be passed to the same function\n",
    "animal_sound(dog)  # Output: Woof!\n",
    "animal_sound(cat)  # Output: Meow!\n"
   ]
  },
  {
   "cell_type": "code",
   "execution_count": 2,
   "metadata": {},
   "outputs": [
    {
     "name": "stdout",
     "output_type": "stream",
     "text": [
      "Woof!\n",
      "Meow!\n"
     ]
    }
   ],
   "source": [
    "'''\n",
    "2. Method Overriding (Runtime Polymorphism)\n",
    "In Python, method overriding allows a subclass to provide a specific implementation of a method that is already defined in its parent class. \n",
    "The method in the child class overrides the method in the parent class.\n",
    "\n",
    "'''\n",
    "\n",
    "class Animal:\n",
    "    def speak(self):\n",
    "        return \"Some generic animal sound\"\n",
    "\n",
    "class Dog(Animal):\n",
    "    def speak(self):\n",
    "        return \"Woof!\"\n",
    "\n",
    "class Cat(Animal):\n",
    "    def speak(self):\n",
    "        return \"Meow!\"\n",
    "\n",
    "# Creating instances of Dog and Cat\n",
    "dog = Dog()\n",
    "cat = Cat()\n",
    "\n",
    "# The same method is called, but different outputs are produced based on the object type\n",
    "print(dog.speak())  # Output: Woof!\n",
    "print(cat.speak())  # Output: Meow!\n"
   ]
  },
  {
   "cell_type": "code",
   "execution_count": 3,
   "metadata": {},
   "outputs": [
    {
     "name": "stdout",
     "output_type": "stream",
     "text": [
      "30\n",
      "60\n"
     ]
    }
   ],
   "source": [
    "'''\n",
    "3. Method Overloading (Not Native, but Achievable)\n",
    "Python does not natively support method overloading (i.e., defining multiple methods with the same name but different argument types or numbers). However, \n",
    "this can be achieved using default arguments or by handling different argument types inside a single method.\n",
    "'''\n",
    "\n",
    "class MathOperations:\n",
    "    def add(self, a, b, c=None):\n",
    "        if c:\n",
    "            return a + b + c\n",
    "        else:\n",
    "            return a + b\n",
    "\n",
    "# Creating an instance of MathOperations\n",
    "math_op = MathOperations()\n",
    "\n",
    "# Calling add method with two arguments\n",
    "print(math_op.add(10, 20))    # Output: 30\n",
    "\n",
    "# Calling add method with three arguments\n",
    "print(math_op.add(10, 20, 30))  # Output: 60\n"
   ]
  },
  {
   "cell_type": "code",
   "execution_count": 4,
   "metadata": {},
   "outputs": [
    {
     "name": "stdout",
     "output_type": "stream",
     "text": [
      "Point(6, 8)\n"
     ]
    }
   ],
   "source": [
    "'''\n",
    "4. Operator Overloading\n",
    "In Python, you can use polymorphism to define how operators behave with user-defined types (classes). This is known as operator overloading. \n",
    "Python provides special methods that can be overridden to define the behavior of operators such as +, -, *, etc., for objects of custom classes.\n",
    "'''\n",
    "\n",
    "class Point:\n",
    "    def __init__(self, x, y):\n",
    "        self.x = x\n",
    "        self.y = y\n",
    "\n",
    "    # Overloading the + operator\n",
    "    def __add__(self, other):\n",
    "        return Point(self.x + other.x, self.y + other.y)\n",
    "\n",
    "    def __str__(self):\n",
    "        return f\"Point({self.x}, {self.y})\"\n",
    "\n",
    "# Creating two Point objects\n",
    "point1 = Point(2, 3)\n",
    "point2 = Point(4, 5)\n",
    "\n",
    "# Adding the two points using the overloaded + operator\n",
    "result = point1 + point2\n",
    "\n",
    "print(result)  # Output: Point(6, 8)\n"
   ]
  },
  {
   "cell_type": "code",
   "execution_count": null,
   "metadata": {},
   "outputs": [],
   "source": []
  }
 ],
 "metadata": {
  "kernelspec": {
   "display_name": "Python 3",
   "language": "python",
   "name": "python3"
  },
  "language_info": {
   "codemirror_mode": {
    "name": "ipython",
    "version": 3
   },
   "file_extension": ".py",
   "mimetype": "text/x-python",
   "name": "python",
   "nbconvert_exporter": "python",
   "pygments_lexer": "ipython3",
   "version": "3.12.6"
  }
 },
 "nbformat": 4,
 "nbformat_minor": 2
}
