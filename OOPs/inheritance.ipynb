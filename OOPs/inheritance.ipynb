{
 "cells": [
  {
   "cell_type": "code",
   "execution_count": 14,
   "metadata": {},
   "outputs": [
    {
     "name": "stdout",
     "output_type": "stream",
     "text": [
      "I am Parent Class\n",
      "I am Parent Class\n",
      "I am child class\n",
      "I am Parent Class\n"
     ]
    }
   ],
   "source": [
    "'''\n",
    "Simple Inheritace : Parent -> Child\n",
    "\n",
    "'''\n",
    "\n",
    "class Parent:\n",
    "\n",
    "    engine = \"Tata\"\n",
    "\n",
    "    def __inti__(self,x,y):\n",
    "\n",
    "        self.x = x\n",
    "        self.y = y\n",
    "\n",
    "    def getEngine(cls):\n",
    "\n",
    "        return cls.engine\n",
    "    \n",
    "    def getFeatures(self):\n",
    "\n",
    "        return self.x, self.y\n",
    "    \n",
    "\n",
    "    def display(self):\n",
    "\n",
    "        print(\"I am Parent Class\")\n",
    "    \n",
    "\n",
    "\n",
    "class Child(Parent):\n",
    "\n",
    "    def __init__(self,x,y,speed):\n",
    "        super().__inti__(x,y) # super is used for inheriting traits from Parent\n",
    "        self.speed = speed\n",
    "\n",
    "    def display(self):\n",
    "        super().display() # way to call parent method from child\n",
    "        Parent.display(self) # way to call parent method from child\n",
    "        print(\"I am child class\")\n",
    "\n",
    "    \n",
    "car = Child(1,2,200)\n",
    "\n",
    "car.display()\n",
    "Parent.display(car) # directly call parent method from child object"
   ]
  },
  {
   "cell_type": "code",
   "execution_count": 22,
   "metadata": {},
   "outputs": [
    {
     "name": "stdout",
     "output_type": "stream",
     "text": [
      "I am Grand Parent Class\n",
      "I am Parent Class\n",
      "I am Child Class\n"
     ]
    }
   ],
   "source": [
    "'''\n",
    "Hierarchical Inheritance : Grandparent -> Parent -> Child\n",
    "\n",
    "'''\n",
    "\n",
    "class GrandParent:\n",
    "\n",
    "\n",
    "    def display(self):\n",
    "\n",
    "        print(\"I am Grand Parent Class\")\n",
    "\n",
    "\n",
    "class Parent(GrandParent):\n",
    "\n",
    "    def display(self):\n",
    "        super().display()\n",
    "        print(\"I am Parent Class\")\n",
    "\n",
    "\n",
    "class Child(Parent) :\n",
    "\n",
    "    def display(self):\n",
    "        super().display()\n",
    "        print(\"I am Child Class\")\n",
    "\n",
    "\n",
    "\n",
    "objA = Child()\n",
    "\n",
    "objA.display()\n",
    "# Parent.display(objA)\n",
    "# GrandParent.display(objA)"
   ]
  },
  {
   "cell_type": "code",
   "execution_count": 32,
   "metadata": {},
   "outputs": [
    {
     "name": "stdout",
     "output_type": "stream",
     "text": [
      "I am Parent- A Class\n",
      "I am Parent Class\n"
     ]
    }
   ],
   "source": [
    "'''\n",
    "Tree Inheritance : A -> C <- B\n",
    "\n",
    "'''\n",
    "\n",
    "class Parent2:\n",
    "\n",
    "    def display(self):\n",
    "        \n",
    "        print(\"I am Parent- A Class\")\n",
    "\n",
    "class Parent1:\n",
    "\n",
    "    def display(self):\n",
    "        \n",
    "        print(\"I am Parent- B Class\")\n",
    "\n",
    "\n",
    "class Child(Parent2, Parent1):\n",
    "\n",
    "    def display(self):\n",
    "        super().display()\n",
    "        print(\"I am Parent Class\")\n",
    "    \n",
    "\n",
    "obj = Child()\n",
    "obj.display() # class inherited first will be used"
   ]
  },
  {
   "cell_type": "code",
   "execution_count": 33,
   "metadata": {},
   "outputs": [
    {
     "name": "stdout",
     "output_type": "stream",
     "text": [
      "I am A Class\n",
      "I am  Parent Class \n",
      "I am A Class\n",
      "I am  Parent Class \n"
     ]
    }
   ],
   "source": [
    "'''\n",
    "Multiple Inheritance : A -> C , A -> B\n",
    "\n",
    "'''\n",
    "\n",
    "\n",
    "class Parent:\n",
    "\n",
    "    def display(self):\n",
    "        \n",
    "        print(\"I am  Parent Class \")\n",
    "\n",
    "\n",
    "class A(Parent):\n",
    "\n",
    "\n",
    "    def display(self):\n",
    "        \n",
    "        print(\"I am A Class\")\n",
    "        super().display()\n",
    "\n",
    "\n",
    "class B(Parent):\n",
    "\n",
    "    def display(self):\n",
    "        \n",
    "        print(\"I am A Class\")\n",
    "        super().display()\n",
    "\n",
    "\n",
    "\n",
    "objA = A()\n",
    "objB = B()\n",
    "\n",
    "objA.display()\n",
    "objB.display()"
   ]
  },
  {
   "cell_type": "code",
   "execution_count": null,
   "metadata": {},
   "outputs": [],
   "source": []
  }
 ],
 "metadata": {
  "kernelspec": {
   "display_name": "Python 3",
   "language": "python",
   "name": "python3"
  },
  "language_info": {
   "codemirror_mode": {
    "name": "ipython",
    "version": 3
   },
   "file_extension": ".py",
   "mimetype": "text/x-python",
   "name": "python",
   "nbconvert_exporter": "python",
   "pygments_lexer": "ipython3",
   "version": "3.12.6"
  }
 },
 "nbformat": 4,
 "nbformat_minor": 2
}
